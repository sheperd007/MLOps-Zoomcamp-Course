{
  "nbformat": 4,
  "nbformat_minor": 0,
  "metadata": {
    "colab": {
      "provenance": []
    },
    "kernelspec": {
      "name": "python3",
      "display_name": "Python 3"
    },
    "language_info": {
      "name": "python"
    }
  },
  "cells": [
    {
      "cell_type": "code",
      "execution_count": 62,
      "metadata": {
        "id": "RJMPWJKdYMka"
      },
      "outputs": [],
      "source": [
        "import pandas as pd\n",
        "import statistics\n",
        "import numpy as np\n",
        "from sklearn.feature_extraction import DictVectorizer\n",
        "from sklearn.linear_model import LinearRegression\n",
        "from sklearn.linear_model import Lasso\n",
        "from sklearn.linear_model import Ridge\n",
        "\n",
        "from sklearn.metrics import mean_squared_error"
      ]
    },
    {
      "cell_type": "code",
      "source": [
        "data =pd.read_parquet(\"/content/yellow_tripdata_2022-01.parquet\")"
      ],
      "metadata": {
        "id": "adhiL_X8Y4Rz"
      },
      "execution_count": 41,
      "outputs": []
    },
    {
      "cell_type": "code",
      "source": [
        "data.columns"
      ],
      "metadata": {
        "colab": {
          "base_uri": "https://localhost:8080/"
        },
        "id": "I-9fKDN1ZVqP",
        "outputId": "482ebdb4-0373-4718-c3db-d1e29bff3457"
      },
      "execution_count": 42,
      "outputs": [
        {
          "output_type": "execute_result",
          "data": {
            "text/plain": [
              "Index(['VendorID', 'tpep_pickup_datetime', 'tpep_dropoff_datetime',\n",
              "       'passenger_count', 'trip_distance', 'RatecodeID', 'store_and_fwd_flag',\n",
              "       'PULocationID', 'DOLocationID', 'payment_type', 'fare_amount', 'extra',\n",
              "       'mta_tax', 'tip_amount', 'tolls_amount', 'improvement_surcharge',\n",
              "       'total_amount', 'congestion_surcharge', 'airport_fee'],\n",
              "      dtype='object')"
            ]
          },
          "metadata": {},
          "execution_count": 42
        }
      ]
    },
    {
      "cell_type": "code",
      "source": [
        "data['duration'] = data.tpep_dropoff_datetime-data.tpep_pickup_datetime\n",
        "data.duration = data.duration.apply(lambda td: td.total_seconds()/60)\n",
        "#data = data[(data.duration >= 1) & (data.duration <= 60)]"
      ],
      "metadata": {
        "id": "uSTAjSWpgiok"
      },
      "execution_count": 43,
      "outputs": []
    },
    {
      "cell_type": "code",
      "source": [
        "data['duration']"
      ],
      "metadata": {
        "colab": {
          "base_uri": "https://localhost:8080/"
        },
        "id": "kdHSF-fzgrf7",
        "outputId": "14ee8098-3273-486d-f888-c3d495895d08"
      },
      "execution_count": 44,
      "outputs": [
        {
          "output_type": "execute_result",
          "data": {
            "text/plain": [
              "0          17.816667\n",
              "1           8.400000\n",
              "2           8.966667\n",
              "3          10.033333\n",
              "4          37.533333\n",
              "             ...    \n",
              "2463926     5.966667\n",
              "2463927    10.650000\n",
              "2463928    11.000000\n",
              "2463929    12.050000\n",
              "2463930    27.000000\n",
              "Name: duration, Length: 2463931, dtype: float64"
            ]
          },
          "metadata": {},
          "execution_count": 44
        }
      ]
    },
    {
      "cell_type": "code",
      "source": [
        "np.sqrt(statistics.variance(data['duration']))"
      ],
      "metadata": {
        "colab": {
          "base_uri": "https://localhost:8080/"
        },
        "id": "V38S2iE9h2pZ",
        "outputId": "09668819-19d9-4c82-bde0-08242e06e5ac"
      },
      "execution_count": 45,
      "outputs": [
        {
          "output_type": "execute_result",
          "data": {
            "text/plain": [
              "46.44530513776801"
            ]
          },
          "metadata": {},
          "execution_count": 45
        }
      ]
    },
    {
      "cell_type": "code",
      "source": [
        "statistics.variance(data['duration'])"
      ],
      "metadata": {
        "id": "54sEuGi1jTYV",
        "colab": {
          "base_uri": "https://localhost:8080/"
        },
        "outputId": "b67058df-0e07-472a-94b3-e27c3a57958e"
      },
      "execution_count": 46,
      "outputs": [
        {
          "output_type": "execute_result",
          "data": {
            "text/plain": [
              "2157.16636934038"
            ]
          },
          "metadata": {},
          "execution_count": 46
        }
      ]
    },
    {
      "cell_type": "markdown",
      "source": [
        "#Outliers"
      ],
      "metadata": {
        "id": "F7WrfuvPS4fJ"
      }
    },
    {
      "cell_type": "code",
      "source": [
        "((data.duration >= 1) & (data.duration <= 60)).mean()"
      ],
      "metadata": {
        "colab": {
          "base_uri": "https://localhost:8080/"
        },
        "id": "GjIisfoBS9hA",
        "outputId": "dc46e2e5-ebad-4773-8b82-220380cb86ff"
      },
      "execution_count": 53,
      "outputs": [
        {
          "output_type": "execute_result",
          "data": {
            "text/plain": [
              "0.9827547930522406"
            ]
          },
          "metadata": {},
          "execution_count": 53
        }
      ]
    },
    {
      "cell_type": "code",
      "source": [
        "data = data[(data.duration >= 1) & (data.duration <= 60)]"
      ],
      "metadata": {
        "id": "6Z98qA5dTInw"
      },
      "execution_count": 54,
      "outputs": []
    },
    {
      "cell_type": "markdown",
      "source": [
        "# vectorizing"
      ],
      "metadata": {
        "id": "MiFpWzUCVk3X"
      }
    },
    {
      "cell_type": "code",
      "source": [
        "categorical = ['PULocationID', 'DOLocationID']\n",
        "data[categorical] = data[categorical].astype(str)"
      ],
      "metadata": {
        "id": "-gcKv8tVVBxw"
      },
      "execution_count": 55,
      "outputs": []
    },
    {
      "cell_type": "code",
      "source": [
        "train_dicts = data[categorical].to_dict(orient='records')\n",
        "\n",
        "dv = DictVectorizer()\n",
        "X_train = dv.fit_transform(train_dicts)"
      ],
      "metadata": {
        "id": "sfT3FI5rVToP"
      },
      "execution_count": 59,
      "outputs": []
    },
    {
      "cell_type": "code",
      "source": [
        "X_train"
      ],
      "metadata": {
        "colab": {
          "base_uri": "https://localhost:8080/"
        },
        "id": "Zdyp1ycvVtjQ",
        "outputId": "da245069-81c4-4cb9-d337-3294eb6dcebf"
      },
      "execution_count": 60,
      "outputs": [
        {
          "output_type": "execute_result",
          "data": {
            "text/plain": [
              "<2421440x515 sparse matrix of type '<class 'numpy.float64'>'\n",
              "\twith 4842880 stored elements in Compressed Sparse Row format>"
            ]
          },
          "metadata": {},
          "execution_count": 60
        }
      ]
    },
    {
      "cell_type": "markdown",
      "source": [
        "# Linear Model"
      ],
      "metadata": {
        "id": "yzb8GRlWYAU_"
      }
    },
    {
      "cell_type": "code",
      "source": [
        "target = 'duration'\n",
        "y_train = data[target].values\n",
        "\n",
        "lr = LinearRegression()\n",
        "lr.fit(X_train, y_train)\n",
        "\n",
        "y_pred = lr.predict(X_train)\n",
        "\n",
        "mean_squared_error(y_train, y_pred, squared=False)"
      ],
      "metadata": {
        "colab": {
          "base_uri": "https://localhost:8080/"
        },
        "id": "JM1MP6aBXOW_",
        "outputId": "06c32cad-b3e2-47fe-80ed-13cbae04a420"
      },
      "execution_count": 63,
      "outputs": [
        {
          "output_type": "execute_result",
          "data": {
            "text/plain": [
              "6.986190742248472"
            ]
          },
          "metadata": {},
          "execution_count": 63
        }
      ]
    },
    {
      "cell_type": "markdown",
      "source": [
        "## validation A to Z"
      ],
      "metadata": {
        "id": "fUmK1J7eYcjX"
      }
    },
    {
      "cell_type": "code",
      "source": [
        "def read_dataframe(filename):\n",
        "    if filename.endswith('.csv'):\n",
        "        df = pd.read_csv(filename)\n",
        "\n",
        "        df.tpep_dropoff_datetime = pd.to_datetime(df.tpep_dropoff_datetime)\n",
        "        df.tpep_pickup_datetime = pd.to_datetime(df.tpep_pickup_datetime)\n",
        "    elif filename.endswith('.parquet'):\n",
        "        df = pd.read_parquet(filename)\n",
        "\n",
        "    df['duration'] = df.tpep_dropoff_datetime - df.tpep_pickup_datetime\n",
        "    df.duration = df.duration.apply(lambda td: td.total_seconds() / 60)\n",
        "\n",
        "    df = df[(df.duration >= 1) & (df.duration <= 60)]\n",
        "\n",
        "    categorical = ['PULocationID', 'DOLocationID']\n",
        "    df[categorical] = df[categorical].astype(str)\n",
        "    \n",
        "    return df"
      ],
      "metadata": {
        "id": "SPzkPZFZYJxv"
      },
      "execution_count": 68,
      "outputs": []
    },
    {
      "cell_type": "code",
      "source": [
        "df_train = read_dataframe('/content/yellow_tripdata_2022-01.parquet')\n",
        "df_val = read_dataframe('/content/yellow_tripdata_2022-02.parquet')"
      ],
      "metadata": {
        "id": "-Dmr4ztPY6UP"
      },
      "execution_count": 77,
      "outputs": []
    },
    {
      "cell_type": "code",
      "source": [
        "len(df_train), len(df_val)"
      ],
      "metadata": {
        "colab": {
          "base_uri": "https://localhost:8080/"
        },
        "id": "BaYDFiRSZBYY",
        "outputId": "a3cca5f5-7812-41ad-e798-9245f2e2eb94"
      },
      "execution_count": 78,
      "outputs": [
        {
          "output_type": "execute_result",
          "data": {
            "text/plain": [
              "(2421440, 2918187)"
            ]
          },
          "metadata": {},
          "execution_count": 78
        }
      ]
    },
    {
      "cell_type": "code",
      "source": [
        "categorical = ['PULocationID','DOLocationID'] \n",
        "dv = DictVectorizer()\n",
        "\n",
        "train_dicts = df_train[categorical].to_dict(orient='records')\n",
        "X_train = dv.fit_transform(train_dicts)\n",
        "\n",
        "val_dicts = df_val[categorical].to_dict(orient='records')\n",
        "X_val = dv.transform(val_dicts)"
      ],
      "metadata": {
        "id": "pH5EvDIkZ-xv"
      },
      "execution_count": 79,
      "outputs": []
    },
    {
      "cell_type": "code",
      "source": [
        "target = 'duration'\n",
        "y_train = df_train[target].values\n",
        "y_val = df_val[target].values"
      ],
      "metadata": {
        "id": "mGpaLKKvaJi4"
      },
      "execution_count": 80,
      "outputs": []
    },
    {
      "cell_type": "code",
      "source": [
        "lr = LinearRegression()\n",
        "lr.fit(X_train, y_train)\n",
        "\n",
        "y_pred = lr.predict(X_val)\n",
        "\n",
        "mean_squared_error(y_val, y_pred, squared=False)"
      ],
      "metadata": {
        "colab": {
          "base_uri": "https://localhost:8080/"
        },
        "id": "foDzenNjaL8A",
        "outputId": "2616566d-a960-4415-de71-0726874bdc08"
      },
      "execution_count": 81,
      "outputs": [
        {
          "output_type": "execute_result",
          "data": {
            "text/plain": [
              "7.78640662117552"
            ]
          },
          "metadata": {},
          "execution_count": 81
        }
      ]
    },
    {
      "cell_type": "code",
      "source": [],
      "metadata": {
        "id": "DVsW2x4TaN1R"
      },
      "execution_count": null,
      "outputs": []
    }
  ]
}